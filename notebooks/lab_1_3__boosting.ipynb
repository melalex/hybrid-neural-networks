{
 "cells": [
  {
   "cell_type": "markdown",
   "metadata": {},
   "source": [
    "# Лабораторна робота №3 - Boosting"
   ]
  },
  {
   "cell_type": "markdown",
   "metadata": {},
   "source": [
    "## Підготовка середовища\n",
    "\n",
    "1. Імпорти залежностей"
   ]
  },
  {
   "cell_type": "code",
   "execution_count": null,
   "metadata": {},
   "outputs": [],
   "source": [
    "import torch\n",
    "import random\n",
    "import numpy as np\n",
    "import pandas as pd\n",
    "\n",
    "from src.visualization.plot import plot_estimators_count_to_f1\n",
    "from src.util.torch_device import resolve_torch_device\n",
    "from src.model.boost import CustomBoostingClassifier\n",
    "\n",
    "from sklearn.model_selection import cross_val_score\n",
    "from sklearn.pipeline import make_pipeline\n",
    "from sklearn.svm import SVC\n",
    "from sklearn.tree import DecisionTreeClassifier\n",
    "from sklearn.ensemble import AdaBoostClassifier\n",
    "from sklearn.model_selection import GridSearchCV\n",
    "\n",
    "from sklearn.discriminant_analysis import StandardScaler"
   ]
  },
  {
   "cell_type": "markdown",
   "metadata": {},
   "source": [
    "2. Встановити сід генератора випадкових чисел"
   ]
  },
  {
   "cell_type": "code",
   "execution_count": 2,
   "metadata": {},
   "outputs": [],
   "source": [
    "random_seed = 42\n",
    "\n",
    "random.seed(random_seed)\n",
    "torch.manual_seed(random_seed)\n",
    "np.random.seed(random_seed)"
   ]
  },
  {
   "cell_type": "markdown",
   "metadata": {},
   "source": [
    "3. Завантажити девайс"
   ]
  },
  {
   "cell_type": "code",
   "execution_count": 3,
   "metadata": {},
   "outputs": [],
   "source": [
    "device = resolve_torch_device()"
   ]
  },
  {
   "cell_type": "markdown",
   "metadata": {},
   "source": [
    "4. Завантажити датасет"
   ]
  },
  {
   "cell_type": "code",
   "execution_count": 4,
   "metadata": {},
   "outputs": [],
   "source": [
    "df = pd.read_csv(\"https://archive.ics.uci.edu/static/public/45/data.csv\")\n",
    "df = df.dropna()\n",
    "\n",
    "x = df.drop(columns=[\"num\"]).to_numpy()\n",
    "y = df[\"num\"].to_numpy()"
   ]
  },
  {
   "cell_type": "markdown",
   "metadata": {},
   "source": [
    "## Навчання SVM.\n",
    "\n",
    "1. Завантажити та налаштувати модель обраної архітектури"
   ]
  },
  {
   "cell_type": "code",
   "execution_count": 5,
   "metadata": {},
   "outputs": [],
   "source": [
    "pipe = make_pipeline(\n",
    "    StandardScaler(),\n",
    "    SVC(probability=True, kernel=\"linear\", random_state=random_seed),\n",
    ")"
   ]
  },
  {
   "cell_type": "markdown",
   "metadata": {},
   "source": [
    "2. Провести навчання моделі"
   ]
  },
  {
   "cell_type": "code",
   "execution_count": 6,
   "metadata": {},
   "outputs": [],
   "source": [
    "svm_score = cross_val_score(pipe, x, y, scoring=\"f1_weighted\").mean()"
   ]
  },
  {
   "cell_type": "markdown",
   "metadata": {},
   "source": [
    "## Навчання DecisionTreeClassifier.\n",
    "\n",
    "1. Завантажити та налаштувати модель обраної архітектури"
   ]
  },
  {
   "cell_type": "code",
   "execution_count": 7,
   "metadata": {},
   "outputs": [],
   "source": [
    "pipe = make_pipeline(\n",
    "    StandardScaler(),\n",
    "    DecisionTreeClassifier(random_state=random_seed),\n",
    ")"
   ]
  },
  {
   "cell_type": "markdown",
   "metadata": {},
   "source": [
    "2. Провести навчання моделі"
   ]
  },
  {
   "cell_type": "code",
   "execution_count": 8,
   "metadata": {},
   "outputs": [],
   "source": [
    "decision_tree_score = cross_val_score(pipe, x, y, scoring=\"f1_weighted\").mean()"
   ]
  },
  {
   "cell_type": "markdown",
   "metadata": {},
   "source": [
    "## Навчання Boosting SVM.\n",
    "\n",
    "1. Завантажити та налаштувати модель обраної архітектури"
   ]
  },
  {
   "cell_type": "code",
   "execution_count": 9,
   "metadata": {},
   "outputs": [],
   "source": [
    "pipe = make_pipeline(\n",
    "    StandardScaler(),\n",
    "    AdaBoostClassifier(\n",
    "        estimator=SVC(probability=True, kernel=\"linear\", random_state=random_seed),\n",
    "        n_estimators=1,\n",
    "        random_state=random_seed,\n",
    "        algorithm=\"SAMME\",\n",
    "    ),\n",
    ")"
   ]
  },
  {
   "cell_type": "markdown",
   "metadata": {},
   "source": [
    "2. Провести навчання моделі"
   ]
  },
  {
   "cell_type": "code",
   "execution_count": 10,
   "metadata": {},
   "outputs": [
    {
     "name": "stdout",
     "output_type": "stream",
     "text": [
      "Fitting 5 folds for each of 3 candidates, totalling 15 fits\n",
      "[CV 1/5; 1/3] START adaboostclassifier__n_estimators=25.........................\n",
      "[CV 1/5; 1/3] END adaboostclassifier__n_estimators=25;, score=0.511 total time=   0.1s\n",
      "[CV 2/5; 1/3] START adaboostclassifier__n_estimators=25.........................\n",
      "[CV 2/5; 1/3] END adaboostclassifier__n_estimators=25;, score=0.520 total time=   0.2s\n",
      "[CV 3/5; 1/3] START adaboostclassifier__n_estimators=25.........................\n",
      "[CV 3/5; 1/3] END adaboostclassifier__n_estimators=25;, score=0.489 total time=   0.2s\n",
      "[CV 4/5; 1/3] START adaboostclassifier__n_estimators=25.........................\n",
      "[CV 4/5; 1/3] END adaboostclassifier__n_estimators=25;, score=0.605 total time=   0.1s\n",
      "[CV 5/5; 1/3] START adaboostclassifier__n_estimators=25.........................\n",
      "[CV 5/5; 1/3] END adaboostclassifier__n_estimators=25;, score=0.483 total time=   0.1s\n",
      "[CV 1/5; 2/3] START adaboostclassifier__n_estimators=50.........................\n",
      "[CV 1/5; 2/3] END adaboostclassifier__n_estimators=50;, score=0.529 total time=   0.3s\n",
      "[CV 2/5; 2/3] START adaboostclassifier__n_estimators=50.........................\n",
      "[CV 2/5; 2/3] END adaboostclassifier__n_estimators=50;, score=0.561 total time=   0.3s\n",
      "[CV 3/5; 2/3] START adaboostclassifier__n_estimators=50.........................\n",
      "[CV 3/5; 2/3] END adaboostclassifier__n_estimators=50;, score=0.490 total time=   0.3s\n",
      "[CV 4/5; 2/3] START adaboostclassifier__n_estimators=50.........................\n",
      "[CV 4/5; 2/3] END adaboostclassifier__n_estimators=50;, score=0.578 total time=   0.3s\n",
      "[CV 5/5; 2/3] START adaboostclassifier__n_estimators=50.........................\n",
      "[CV 5/5; 2/3] END adaboostclassifier__n_estimators=50;, score=0.501 total time=   0.2s\n",
      "[CV 1/5; 3/3] START adaboostclassifier__n_estimators=75.........................\n",
      "[CV 1/5; 3/3] END adaboostclassifier__n_estimators=75;, score=0.527 total time=   0.3s\n",
      "[CV 2/5; 3/3] START adaboostclassifier__n_estimators=75.........................\n",
      "[CV 2/5; 3/3] END adaboostclassifier__n_estimators=75;, score=0.541 total time=   0.4s\n",
      "[CV 3/5; 3/3] START adaboostclassifier__n_estimators=75.........................\n",
      "[CV 3/5; 3/3] END adaboostclassifier__n_estimators=75;, score=0.489 total time=   0.4s\n",
      "[CV 4/5; 3/3] START adaboostclassifier__n_estimators=75.........................\n",
      "[CV 4/5; 3/3] END adaboostclassifier__n_estimators=75;, score=0.578 total time=   0.3s\n",
      "[CV 5/5; 3/3] START adaboostclassifier__n_estimators=75.........................\n",
      "[CV 5/5; 3/3] END adaboostclassifier__n_estimators=75;, score=0.501 total time=   0.2s\n"
     ]
    }
   ],
   "source": [
    "param_grid = {\n",
    "    \"adaboostclassifier__n_estimators\": [25, 50, 75],\n",
    "}\n",
    "\n",
    "search = GridSearchCV(pipe, param_grid, scoring=\"f1_weighted\", verbose=10)\n",
    "\n",
    "search.fit(x, y)\n",
    "\n",
    "used_params = [\n",
    "    it[\"adaboostclassifier__n_estimators\"] for it in search.cv_results_[\"params\"]\n",
    "]\n",
    "\n",
    "best_boosting_svm = search.best_estimator_\n",
    "boosting_svm_score = search.best_score_"
   ]
  },
  {
   "cell_type": "code",
   "execution_count": 11,
   "metadata": {},
   "outputs": [
    {
     "data": {
      "image/png": "[encoded data removed]",
      "text/plain": [
       "<Figure size 1200x600 with 1 Axes>"
      ]
     },
     "metadata": {},
     "output_type": "display_data"
    }
   ],
   "source": [
    "plot_estimators_count_to_f1(used_params, search.cv_results_[\"mean_test_score\"])"
   ]
  },
  {
   "cell_type": "markdown",
   "metadata": {},
   "source": [
    "## Навчання Boosting Decision Tree.\n",
    "\n",
    "1. Завантажити та налаштувати модель обраної архітектури"
   ]
  },
  {
   "cell_type": "code",
   "execution_count": 12,
   "metadata": {},
   "outputs": [],
   "source": [
    "pipe = make_pipeline(\n",
    "    StandardScaler(),\n",
    "    AdaBoostClassifier(\n",
    "        estimator=DecisionTreeClassifier(random_state=random_seed),\n",
    "        n_estimators=1,\n",
    "        random_state=random_seed,\n",
    "        algorithm=\"SAMME\",\n",
    "    ),\n",
    ")"
   ]
  },
  {
   "cell_type": "markdown",
   "metadata": {},
   "source": [
    "2. Провести навчання моделі"
   ]
  },
  {
   "cell_type": "code",
   "execution_count": 13,
   "metadata": {},
   "outputs": [
    {
     "name": "stdout",
     "output_type": "stream",
     "text": [
      "Fitting 5 folds for each of 3 candidates, totalling 15 fits\n",
      "[CV 1/5; 1/3] START adaboostclassifier__n_estimators=25.........................\n",
      "[CV 1/5; 1/3] END adaboostclassifier__n_estimators=25;, score=0.436 total time=   0.0s\n",
      "[CV 2/5; 1/3] START adaboostclassifier__n_estimators=25.........................\n",
      "[CV 2/5; 1/3] END adaboostclassifier__n_estimators=25;, score=0.515 total time=   0.0s\n",
      "[CV 3/5; 1/3] START adaboostclassifier__n_estimators=25.........................\n",
      "[CV 3/5; 1/3] END adaboostclassifier__n_estimators=25;, score=0.494 total time=   0.0s\n",
      "[CV 4/5; 1/3] START adaboostclassifier__n_estimators=25.........................\n",
      "[CV 4/5; 1/3] END adaboostclassifier__n_estimators=25;, score=0.521 total time=   0.0s\n",
      "[CV 5/5; 1/3] START adaboostclassifier__n_estimators=25.........................\n",
      "[CV 5/5; 1/3] END adaboostclassifier__n_estimators=25;, score=0.502 total time=   0.0s\n",
      "[CV 1/5; 2/3] START adaboostclassifier__n_estimators=50.........................\n",
      "[CV 1/5; 2/3] END adaboostclassifier__n_estimators=50;, score=0.436 total time=   0.0s\n",
      "[CV 2/5; 2/3] START adaboostclassifier__n_estimators=50.........................\n",
      "[CV 2/5; 2/3] END adaboostclassifier__n_estimators=50;, score=0.515 total time=   0.0s\n",
      "[CV 3/5; 2/3] START adaboostclassifier__n_estimators=50.........................\n",
      "[CV 3/5; 2/3] END adaboostclassifier__n_estimators=50;, score=0.494 total time=   0.0s\n",
      "[CV 4/5; 2/3] START adaboostclassifier__n_estimators=50.........................\n",
      "[CV 4/5; 2/3] END adaboostclassifier__n_estimators=50;, score=0.521 total time=   0.0s\n",
      "[CV 5/5; 2/3] START adaboostclassifier__n_estimators=50.........................\n",
      "[CV 5/5; 2/3] END adaboostclassifier__n_estimators=50;, score=0.502 total time=   0.0s\n",
      "[CV 1/5; 3/3] START adaboostclassifier__n_estimators=75.........................\n",
      "[CV 1/5; 3/3] END adaboostclassifier__n_estimators=75;, score=0.436 total time=   0.0s\n",
      "[CV 2/5; 3/3] START adaboostclassifier__n_estimators=75.........................\n",
      "[CV 2/5; 3/3] END adaboostclassifier__n_estimators=75;, score=0.515 total time=   0.0s\n",
      "[CV 3/5; 3/3] START adaboostclassifier__n_estimators=75.........................\n",
      "[CV 3/5; 3/3] END adaboostclassifier__n_estimators=75;, score=0.494 total time=   0.0s\n",
      "[CV 4/5; 3/3] START adaboostclassifier__n_estimators=75.........................\n",
      "[CV 4/5; 3/3] END adaboostclassifier__n_estimators=75;, score=0.521 total time=   0.0s\n",
      "[CV 5/5; 3/3] START adaboostclassifier__n_estimators=75.........................\n",
      "[CV 5/5; 3/3] END adaboostclassifier__n_estimators=75;, score=0.502 total time=   0.0s\n"
     ]
    }
   ],
   "source": [
    "param_grid = {\n",
    "    \"adaboostclassifier__n_estimators\": [25, 50, 75],\n",
    "}\n",
    "\n",
    "search = GridSearchCV(pipe, param_grid, scoring=\"f1_weighted\", verbose=10)\n",
    "\n",
    "search.fit(x, y)\n",
    "\n",
    "used_params = [\n",
    "    it[\"adaboostclassifier__n_estimators\"] for it in search.cv_results_[\"params\"]\n",
    "]\n",
    "\n",
    "best_boosting_decision_tree = search.best_estimator_\n",
    "boosting_decision_tree_score = search.best_score_"
   ]
  },
  {
   "cell_type": "code",
   "execution_count": 14,
   "metadata": {},
   "outputs": [
    {
     "data": {
      "image/png": "[encoded data removed]",
      "text/plain": [
       "<Figure size 1200x600 with 1 Axes>"
      ]
     },
     "metadata": {},
     "output_type": "display_data"
    }
   ],
   "source": [
    "plot_estimators_count_to_f1(used_params, search.cv_results_[\"mean_test_score\"])"
   ]
  },
  {
   "cell_type": "markdown",
   "metadata": {},
   "source": [
    "## Навчання Boosting SVM +  Decision Tree.\n",
    "\n",
    "1. Завантажити та налаштувати модель обраної архітектури"
   ]
  },
  {
   "cell_type": "code",
   "execution_count": 15,
   "metadata": {},
   "outputs": [],
   "source": [
    "estimators = [SVC(random_state=random_seed) for _ in range(25)] + [\n",
    "    DecisionTreeClassifier(random_state=random_seed) for _ in range(25)\n",
    "]\n",
    "\n",
    "pipe = make_pipeline(StandardScaler(), CustomBoostingClassifier(estimators=estimators))"
   ]
  },
  {
   "cell_type": "markdown",
   "metadata": {},
   "source": [
    "2. Провести навчання моделі"
   ]
  },
  {
   "cell_type": "code",
   "execution_count": 16,
   "metadata": {},
   "outputs": [],
   "source": [
    "boosting_svm_decision_tree_score = cross_val_score(\n",
    "    pipe, x, y, scoring=\"f1_weighted\"\n",
    ").mean()"
   ]
  },
  {
   "cell_type": "markdown",
   "metadata": {},
   "source": [
    "## Висновки"
   ]
  },
  {
   "cell_type": "code",
   "execution_count": 17,
   "metadata": {},
   "outputs": [
    {
     "data": {
      "text/html": [
       "<div>\n",
       "<style scoped>\n",
       "    .dataframe tbody tr th:only-of-type {\n",
       "        vertical-align: middle;\n",
       "    }\n",
       "\n",
       "    .dataframe tbody tr th {\n",
       "        vertical-align: top;\n",
       "    }\n",
       "\n",
       "    .dataframe thead th {\n",
       "        text-align: right;\n",
       "    }\n",
       "</style>\n",
       "<table border=\"1\" class=\"dataframe\">\n",
       "  <thead>\n",
       "    <tr style=\"text-align: right;\">\n",
       "      <th></th>\n",
       "      <th>Модель</th>\n",
       "      <th>F1 score</th>\n",
       "    </tr>\n",
       "  </thead>\n",
       "  <tbody>\n",
       "    <tr>\n",
       "      <th>0</th>\n",
       "      <td>SVM</td>\n",
       "      <td>0.552193</td>\n",
       "    </tr>\n",
       "    <tr>\n",
       "      <th>1</th>\n",
       "      <td>Decision Tree</td>\n",
       "      <td>0.486656</td>\n",
       "    </tr>\n",
       "    <tr>\n",
       "      <th>2</th>\n",
       "      <td>Boosting SVM</td>\n",
       "      <td>0.531954</td>\n",
       "    </tr>\n",
       "    <tr>\n",
       "      <th>3</th>\n",
       "      <td>Boosting Decision Tree</td>\n",
       "      <td>0.493590</td>\n",
       "    </tr>\n",
       "    <tr>\n",
       "      <th>4</th>\n",
       "      <td>Boosting SVM + Decision Tree</td>\n",
       "      <td>0.375090</td>\n",
       "    </tr>\n",
       "  </tbody>\n",
       "</table>\n",
       "</div>"
      ],
      "text/plain": [
       "                         Модель  F1 score\n",
       "0                           SVM  0.552193\n",
       "1                 Decision Tree  0.486656\n",
       "2                  Boosting SVM  0.531954\n",
       "3        Boosting Decision Tree  0.493590\n",
       "4  Boosting SVM + Decision Tree  0.375090"
      ]
     },
     "execution_count": 17,
     "metadata": {},
     "output_type": "execute_result"
    }
   ],
   "source": [
    "data = {\n",
    "    \"Модель\": [\"SVM\", \"Decision Tree\", \"Boosting SVM\", \"Boosting Decision Tree\", \"Boosting SVM + Decision Tree\"],\n",
    "    \"F1 score\": [\n",
    "        svm_score,\n",
    "        decision_tree_score,\n",
    "        boosting_svm_score,\n",
    "        boosting_decision_tree_score,\n",
    "        boosting_svm_decision_tree_score,\n",
    "    ],\n",
    "}\n",
    "\n",
    "df = pd.DataFrame(data)\n",
    "\n",
    "df"
   ]
  }
 ],
 "metadata": {
  "kernelspec": {
   "display_name": ".venv",
   "language": "python",
   "name": "python3"
  },
  "language_info": {
   "codemirror_mode": {
    "name": "ipython",
    "version": 3
   },
   "file_extension": ".py",
   "mimetype": "text/x-python",
   "name": "python",
   "nbconvert_exporter": "python",
   "pygments_lexer": "ipython3",
   "version": "3.11.10"
  }
 },
 "nbformat": 4,
 "nbformat_minor": 2
}
