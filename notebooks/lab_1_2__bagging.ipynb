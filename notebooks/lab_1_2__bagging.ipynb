{
 "cells": [
  {
   "cell_type": "markdown",
   "metadata": {},
   "source": [
    "# Лабораторна робота №2 - Bagging"
   ]
  },
  {
   "cell_type": "markdown",
   "metadata": {},
   "source": [
    "## Підготовка середовища\n",
    "\n",
    "1. Імпорти залежностей"
   ]
  },
  {
   "cell_type": "code",
   "execution_count": 1,
   "metadata": {},
   "outputs": [],
   "source": [
    "import torch\n",
    "import random\n",
    "import numpy as np\n",
    "import pandas as pd\n",
    "\n",
    "from src.visualization.plot import plot_estimators_count_to_f1\n",
    "from src.util.torch_device import resolve_torch_device\n",
    "\n",
    "from sklearn.model_selection import cross_val_score\n",
    "from sklearn.pipeline import make_pipeline\n",
    "from sklearn.svm import SVC\n",
    "from sklearn.neural_network import MLPClassifier\n",
    "from sklearn.ensemble import BaggingClassifier, StackingClassifier\n",
    "from sklearn.model_selection import GridSearchCV\n",
    "\n",
    "from sklearn.discriminant_analysis import StandardScaler"
   ]
  },
  {
   "cell_type": "markdown",
   "metadata": {},
   "source": [
    "2. Встановити сід генератора випадкових чисел"
   ]
  },
  {
   "cell_type": "code",
   "execution_count": 2,
   "metadata": {},
   "outputs": [],
   "source": [
    "random_seed = 42\n",
    "\n",
    "random.seed(random_seed)\n",
    "torch.manual_seed(random_seed)\n",
    "np.random.seed(random_seed)"
   ]
  },
  {
   "cell_type": "markdown",
   "metadata": {},
   "source": [
    "3. Завантажити девайс"
   ]
  },
  {
   "cell_type": "code",
   "execution_count": 3,
   "metadata": {},
   "outputs": [],
   "source": [
    "device = resolve_torch_device()"
   ]
  },
  {
   "cell_type": "markdown",
   "metadata": {},
   "source": [
    "4. Завантажити датасет"
   ]
  },
  {
   "cell_type": "code",
   "execution_count": 4,
   "metadata": {},
   "outputs": [],
   "source": [
    "df = pd.read_csv(\"https://archive.ics.uci.edu/static/public/45/data.csv\")\n",
    "df = df.dropna()\n",
    "\n",
    "x = df.drop(columns=[\"num\"]).to_numpy()\n",
    "y = df[\"num\"].to_numpy()"
   ]
  },
  {
   "cell_type": "markdown",
   "metadata": {},
   "source": [
    "## Навчання SVM.\n",
    "\n",
    "1. Завантажити та налаштувати модель обраної архітектури"
   ]
  },
  {
   "cell_type": "code",
   "execution_count": 5,
   "metadata": {},
   "outputs": [],
   "source": [
    "pipe = make_pipeline(\n",
    "    StandardScaler(),\n",
    "    SVC(random_state=random_seed),\n",
    ")"
   ]
  },
  {
   "cell_type": "markdown",
   "metadata": {},
   "source": [
    "2. Провести навчання моделі"
   ]
  },
  {
   "cell_type": "code",
   "execution_count": 6,
   "metadata": {},
   "outputs": [],
   "source": [
    "svm_score = cross_val_score(pipe, x, y, scoring=\"f1_weighted\").mean()"
   ]
  },
  {
   "cell_type": "markdown",
   "metadata": {},
   "source": [
    "## Навчання MLP.\n",
    "\n",
    "1. Завантажити та налаштувати модель обраної архітектури"
   ]
  },
  {
   "cell_type": "code",
   "execution_count": 7,
   "metadata": {},
   "outputs": [],
   "source": [
    "pipe = make_pipeline(\n",
    "    StandardScaler(),\n",
    "    MLPClassifier(\n",
    "        hidden_layer_sizes=[512],\n",
    "        random_state=random_seed,\n",
    "        learning_rate_init=0.001,\n",
    "        max_iter=1000,\n",
    "    ),\n",
    ")"
   ]
  },
  {
   "cell_type": "markdown",
   "metadata": {},
   "source": [
    "2. Провести навчання моделі"
   ]
  },
  {
   "cell_type": "code",
   "execution_count": 8,
   "metadata": {},
   "outputs": [],
   "source": [
    "mlp_score = cross_val_score(pipe, x, y, scoring=\"f1_weighted\").mean()"
   ]
  },
  {
   "cell_type": "markdown",
   "metadata": {},
   "source": [
    "## Навчання Bagging SVM.\n",
    "\n",
    "1. Завантажити та налаштувати модель обраної архітектури"
   ]
  },
  {
   "cell_type": "code",
   "execution_count": 9,
   "metadata": {},
   "outputs": [],
   "source": [
    "pipe = make_pipeline(\n",
    "    StandardScaler(),\n",
    "    BaggingClassifier(estimator=SVC(), n_estimators=1, random_state=random_seed),\n",
    ")"
   ]
  },
  {
   "cell_type": "markdown",
   "metadata": {},
   "source": [
    "2. Провести навчання моделі"
   ]
  },
  {
   "cell_type": "code",
   "execution_count": 10,
   "metadata": {},
   "outputs": [
    {
     "name": "stdout",
     "output_type": "stream",
     "text": [
      "Fitting 5 folds for each of 18 candidates, totalling 90 fits\n",
      "[CV 1/5; 1/18] START baggingclassifier__n_estimators=2..........................\n",
      "[CV 1/5; 1/18] END baggingclassifier__n_estimators=2;, score=0.498 total time=   0.0s\n",
      "[CV 2/5; 1/18] START baggingclassifier__n_estimators=2..........................\n",
      "[CV 2/5; 1/18] END baggingclassifier__n_estimators=2;, score=0.516 total time=   0.0s\n",
      "[CV 3/5; 1/18] START baggingclassifier__n_estimators=2..........................\n",
      "[CV 3/5; 1/18] END baggingclassifier__n_estimators=2;, score=0.522 total time=   0.0s\n",
      "[CV 4/5; 1/18] START baggingclassifier__n_estimators=2..........................\n",
      "[CV 4/5; 1/18] END baggingclassifier__n_estimators=2;, score=0.519 total time=   0.0s\n",
      "[CV 5/5; 1/18] START baggingclassifier__n_estimators=2..........................\n",
      "[CV 5/5; 1/18] END baggingclassifier__n_estimators=2;, score=0.476 total time=   0.0s\n",
      "[CV 1/5; 2/18] START baggingclassifier__n_estimators=3..........................\n",
      "[CV 1/5; 2/18] END baggingclassifier__n_estimators=3;, score=0.552 total time=   0.0s\n",
      "[CV 2/5; 2/18] START baggingclassifier__n_estimators=3..........................\n",
      "[CV 2/5; 2/18] END baggingclassifier__n_estimators=3;, score=0.496 total time=   0.0s\n",
      "[CV 3/5; 2/18] START baggingclassifier__n_estimators=3..........................\n",
      "[CV 3/5; 2/18] END baggingclassifier__n_estimators=3;, score=0.499 total time=   0.0s\n",
      "[CV 4/5; 2/18] START baggingclassifier__n_estimators=3..........................\n",
      "[CV 4/5; 2/18] END baggingclassifier__n_estimators=3;, score=0.572 total time=   0.0s\n",
      "[CV 5/5; 2/18] START baggingclassifier__n_estimators=3..........................\n",
      "[CV 5/5; 2/18] END baggingclassifier__n_estimators=3;, score=0.465 total time=   0.0s\n",
      "[CV 1/5; 3/18] START baggingclassifier__n_estimators=4..........................\n",
      "[CV 1/5; 3/18] END baggingclassifier__n_estimators=4;, score=0.508 total time=   0.0s\n",
      "[CV 2/5; 3/18] START baggingclassifier__n_estimators=4..........................\n",
      "[CV 2/5; 3/18] END baggingclassifier__n_estimators=4;, score=0.512 total time=   0.0s\n",
      "[CV 3/5; 3/18] START baggingclassifier__n_estimators=4..........................\n",
      "[CV 3/5; 3/18] END baggingclassifier__n_estimators=4;, score=0.465 total time=   0.0s\n",
      "[CV 4/5; 3/18] START baggingclassifier__n_estimators=4..........................\n",
      "[CV 4/5; 3/18] END baggingclassifier__n_estimators=4;, score=0.484 total time=   0.0s\n",
      "[CV 5/5; 3/18] START baggingclassifier__n_estimators=4..........................\n",
      "[CV 5/5; 3/18] END baggingclassifier__n_estimators=4;, score=0.491 total time=   0.0s\n",
      "[CV 1/5; 4/18] START baggingclassifier__n_estimators=5..........................\n",
      "[CV 1/5; 4/18] END baggingclassifier__n_estimators=5;, score=0.515 total time=   0.0s\n",
      "[CV 2/5; 4/18] START baggingclassifier__n_estimators=5..........................\n",
      "[CV 2/5; 4/18] END baggingclassifier__n_estimators=5;, score=0.519 total time=   0.0s\n",
      "[CV 3/5; 4/18] START baggingclassifier__n_estimators=5..........................\n",
      "[CV 3/5; 4/18] END baggingclassifier__n_estimators=5;, score=0.493 total time=   0.0s\n",
      "[CV 4/5; 4/18] START baggingclassifier__n_estimators=5..........................\n",
      "[CV 4/5; 4/18] END baggingclassifier__n_estimators=5;, score=0.515 total time=   0.0s\n",
      "[CV 5/5; 4/18] START baggingclassifier__n_estimators=5..........................\n",
      "[CV 5/5; 4/18] END baggingclassifier__n_estimators=5;, score=0.473 total time=   0.0s\n",
      "[CV 1/5; 5/18] START baggingclassifier__n_estimators=6..........................\n",
      "[CV 1/5; 5/18] END baggingclassifier__n_estimators=6;, score=0.508 total time=   0.0s\n",
      "[CV 2/5; 5/18] START baggingclassifier__n_estimators=6..........................\n",
      "[CV 2/5; 5/18] END baggingclassifier__n_estimators=6;, score=0.570 total time=   0.0s\n",
      "[CV 3/5; 5/18] START baggingclassifier__n_estimators=6..........................\n",
      "[CV 3/5; 5/18] END baggingclassifier__n_estimators=6;, score=0.546 total time=   0.0s\n",
      "[CV 4/5; 5/18] START baggingclassifier__n_estimators=6..........................\n",
      "[CV 4/5; 5/18] END baggingclassifier__n_estimators=6;, score=0.510 total time=   0.0s\n",
      "[CV 5/5; 5/18] START baggingclassifier__n_estimators=6..........................\n",
      "[CV 5/5; 5/18] END baggingclassifier__n_estimators=6;, score=0.493 total time=   0.0s\n",
      "[CV 1/5; 6/18] START baggingclassifier__n_estimators=7..........................\n",
      "[CV 1/5; 6/18] END baggingclassifier__n_estimators=7;, score=0.533 total time=   0.0s\n",
      "[CV 2/5; 6/18] START baggingclassifier__n_estimators=7..........................\n",
      "[CV 2/5; 6/18] END baggingclassifier__n_estimators=7;, score=0.551 total time=   0.0s\n",
      "[CV 3/5; 6/18] START baggingclassifier__n_estimators=7..........................\n",
      "[CV 3/5; 6/18] END baggingclassifier__n_estimators=7;, score=0.524 total time=   0.0s\n",
      "[CV 4/5; 6/18] START baggingclassifier__n_estimators=7..........................\n",
      "[CV 4/5; 6/18] END baggingclassifier__n_estimators=7;, score=0.510 total time=   0.0s\n",
      "[CV 5/5; 6/18] START baggingclassifier__n_estimators=7..........................\n",
      "[CV 5/5; 6/18] END baggingclassifier__n_estimators=7;, score=0.480 total time=   0.0s\n",
      "[CV 1/5; 7/18] START baggingclassifier__n_estimators=8..........................\n",
      "[CV 1/5; 7/18] END baggingclassifier__n_estimators=8;, score=0.514 total time=   0.0s\n",
      "[CV 2/5; 7/18] START baggingclassifier__n_estimators=8..........................\n",
      "[CV 2/5; 7/18] END baggingclassifier__n_estimators=8;, score=0.570 total time=   0.0s\n",
      "[CV 3/5; 7/18] START baggingclassifier__n_estimators=8..........................\n",
      "[CV 3/5; 7/18] END baggingclassifier__n_estimators=8;, score=0.526 total time=   0.0s\n",
      "[CV 4/5; 7/18] START baggingclassifier__n_estimators=8..........................\n",
      "[CV 4/5; 7/18] END baggingclassifier__n_estimators=8;, score=0.534 total time=   0.0s\n",
      "[CV 5/5; 7/18] START baggingclassifier__n_estimators=8..........................\n",
      "[CV 5/5; 7/18] END baggingclassifier__n_estimators=8;, score=0.490 total time=   0.0s\n",
      "[CV 1/5; 8/18] START baggingclassifier__n_estimators=9..........................\n",
      "[CV 1/5; 8/18] END baggingclassifier__n_estimators=9;, score=0.498 total time=   0.0s\n",
      "[CV 2/5; 8/18] START baggingclassifier__n_estimators=9..........................\n",
      "[CV 2/5; 8/18] END baggingclassifier__n_estimators=9;, score=0.593 total time=   0.0s\n",
      "[CV 3/5; 8/18] START baggingclassifier__n_estimators=9..........................\n",
      "[CV 3/5; 8/18] END baggingclassifier__n_estimators=9;, score=0.481 total time=   0.0s\n",
      "[CV 4/5; 8/18] START baggingclassifier__n_estimators=9..........................\n",
      "[CV 4/5; 8/18] END baggingclassifier__n_estimators=9;, score=0.523 total time=   0.0s\n",
      "[CV 5/5; 8/18] START baggingclassifier__n_estimators=9..........................\n",
      "[CV 5/5; 8/18] END baggingclassifier__n_estimators=9;, score=0.480 total time=   0.0s\n",
      "[CV 1/5; 9/18] START baggingclassifier__n_estimators=10.........................\n",
      "[CV 1/5; 9/18] END baggingclassifier__n_estimators=10;, score=0.498 total time=   0.0s\n",
      "[CV 2/5; 9/18] START baggingclassifier__n_estimators=10.........................\n",
      "[CV 2/5; 9/18] END baggingclassifier__n_estimators=10;, score=0.555 total time=   0.0s\n",
      "[CV 3/5; 9/18] START baggingclassifier__n_estimators=10.........................\n",
      "[CV 3/5; 9/18] END baggingclassifier__n_estimators=10;, score=0.500 total time=   0.0s\n",
      "[CV 4/5; 9/18] START baggingclassifier__n_estimators=10.........................\n",
      "[CV 4/5; 9/18] END baggingclassifier__n_estimators=10;, score=0.523 total time=   0.0s\n",
      "[CV 5/5; 9/18] START baggingclassifier__n_estimators=10.........................\n",
      "[CV 5/5; 9/18] END baggingclassifier__n_estimators=10;, score=0.483 total time=   0.0s\n",
      "[CV 1/5; 10/18] START baggingclassifier__n_estimators=11........................\n",
      "[CV 1/5; 10/18] END baggingclassifier__n_estimators=11;, score=0.500 total time=   0.0s\n",
      "[CV 2/5; 10/18] START baggingclassifier__n_estimators=11........................\n",
      "[CV 2/5; 10/18] END baggingclassifier__n_estimators=11;, score=0.543 total time=   0.0s\n",
      "[CV 3/5; 10/18] START baggingclassifier__n_estimators=11........................\n",
      "[CV 3/5; 10/18] END baggingclassifier__n_estimators=11;, score=0.492 total time=   0.0s\n",
      "[CV 4/5; 10/18] START baggingclassifier__n_estimators=11........................\n",
      "[CV 4/5; 10/18] END baggingclassifier__n_estimators=11;, score=0.503 total time=   0.0s\n",
      "[CV 5/5; 10/18] START baggingclassifier__n_estimators=11........................\n",
      "[CV 5/5; 10/18] END baggingclassifier__n_estimators=11;, score=0.511 total time=   0.0s\n",
      "[CV 1/5; 11/18] START baggingclassifier__n_estimators=12........................\n",
      "[CV 1/5; 11/18] END baggingclassifier__n_estimators=12;, score=0.500 total time=   0.0s\n",
      "[CV 2/5; 11/18] START baggingclassifier__n_estimators=12........................\n",
      "[CV 2/5; 11/18] END baggingclassifier__n_estimators=12;, score=0.555 total time=   0.0s\n",
      "[CV 3/5; 11/18] START baggingclassifier__n_estimators=12........................\n",
      "[CV 3/5; 11/18] END baggingclassifier__n_estimators=12;, score=0.500 total time=   0.0s\n",
      "[CV 4/5; 11/18] START baggingclassifier__n_estimators=12........................\n",
      "[CV 4/5; 11/18] END baggingclassifier__n_estimators=12;, score=0.520 total time=   0.0s\n",
      "[CV 5/5; 11/18] START baggingclassifier__n_estimators=12........................\n",
      "[CV 5/5; 11/18] END baggingclassifier__n_estimators=12;, score=0.481 total time=   0.0s\n",
      "[CV 1/5; 12/18] START baggingclassifier__n_estimators=13........................\n",
      "[CV 1/5; 12/18] END baggingclassifier__n_estimators=13;, score=0.521 total time=   0.0s\n",
      "[CV 2/5; 12/18] START baggingclassifier__n_estimators=13........................\n",
      "[CV 2/5; 12/18] END baggingclassifier__n_estimators=13;, score=0.572 total time=   0.0s\n",
      "[CV 3/5; 12/18] START baggingclassifier__n_estimators=13........................\n",
      "[CV 3/5; 12/18] END baggingclassifier__n_estimators=13;, score=0.518 total time=   0.0s\n",
      "[CV 4/5; 12/18] START baggingclassifier__n_estimators=13........................\n",
      "[CV 4/5; 12/18] END baggingclassifier__n_estimators=13;, score=0.526 total time=   0.0s\n",
      "[CV 5/5; 12/18] START baggingclassifier__n_estimators=13........................\n",
      "[CV 5/5; 12/18] END baggingclassifier__n_estimators=13;, score=0.516 total time=   0.0s\n",
      "[CV 1/5; 13/18] START baggingclassifier__n_estimators=14........................\n",
      "[CV 1/5; 13/18] END baggingclassifier__n_estimators=14;, score=0.494 total time=   0.0s\n",
      "[CV 2/5; 13/18] START baggingclassifier__n_estimators=14........................\n",
      "[CV 2/5; 13/18] END baggingclassifier__n_estimators=14;, score=0.560 total time=   0.0s\n",
      "[CV 3/5; 13/18] START baggingclassifier__n_estimators=14........................\n",
      "[CV 3/5; 13/18] END baggingclassifier__n_estimators=14;, score=0.518 total time=   0.0s\n",
      "[CV 4/5; 13/18] START baggingclassifier__n_estimators=14........................\n",
      "[CV 4/5; 13/18] END baggingclassifier__n_estimators=14;, score=0.544 total time=   0.0s\n",
      "[CV 5/5; 13/18] START baggingclassifier__n_estimators=14........................\n",
      "[CV 5/5; 13/18] END baggingclassifier__n_estimators=14;, score=0.529 total time=   0.0s\n",
      "[CV 1/5; 14/18] START baggingclassifier__n_estimators=15........................\n",
      "[CV 1/5; 14/18] END baggingclassifier__n_estimators=15;, score=0.521 total time=   0.0s\n",
      "[CV 2/5; 14/18] START baggingclassifier__n_estimators=15........................\n",
      "[CV 2/5; 14/18] END baggingclassifier__n_estimators=15;, score=0.565 total time=   0.0s\n",
      "[CV 3/5; 14/18] START baggingclassifier__n_estimators=15........................\n",
      "[CV 3/5; 14/18] END baggingclassifier__n_estimators=15;, score=0.513 total time=   0.0s\n",
      "[CV 4/5; 14/18] START baggingclassifier__n_estimators=15........................\n",
      "[CV 4/5; 14/18] END baggingclassifier__n_estimators=15;, score=0.544 total time=   0.0s\n",
      "[CV 5/5; 14/18] START baggingclassifier__n_estimators=15........................\n",
      "[CV 5/5; 14/18] END baggingclassifier__n_estimators=15;, score=0.516 total time=   0.0s\n",
      "[CV 1/5; 15/18] START baggingclassifier__n_estimators=16........................\n",
      "[CV 1/5; 15/18] END baggingclassifier__n_estimators=16;, score=0.519 total time=   0.0s\n",
      "[CV 2/5; 15/18] START baggingclassifier__n_estimators=16........................\n",
      "[CV 2/5; 15/18] END baggingclassifier__n_estimators=16;, score=0.581 total time=   0.0s\n",
      "[CV 3/5; 15/18] START baggingclassifier__n_estimators=16........................\n",
      "[CV 3/5; 15/18] END baggingclassifier__n_estimators=16;, score=0.513 total time=   0.0s\n",
      "[CV 4/5; 15/18] START baggingclassifier__n_estimators=16........................\n",
      "[CV 4/5; 15/18] END baggingclassifier__n_estimators=16;, score=0.505 total time=   0.0s\n",
      "[CV 5/5; 15/18] START baggingclassifier__n_estimators=16........................\n",
      "[CV 5/5; 15/18] END baggingclassifier__n_estimators=16;, score=0.536 total time=   0.0s\n",
      "[CV 1/5; 16/18] START baggingclassifier__n_estimators=17........................\n",
      "[CV 1/5; 16/18] END baggingclassifier__n_estimators=17;, score=0.518 total time=   0.0s\n",
      "[CV 2/5; 16/18] START baggingclassifier__n_estimators=17........................\n",
      "[CV 2/5; 16/18] END baggingclassifier__n_estimators=17;, score=0.588 total time=   0.0s\n",
      "[CV 3/5; 16/18] START baggingclassifier__n_estimators=17........................\n",
      "[CV 3/5; 16/18] END baggingclassifier__n_estimators=17;, score=0.518 total time=   0.0s\n",
      "[CV 4/5; 16/18] START baggingclassifier__n_estimators=17........................\n",
      "[CV 4/5; 16/18] END baggingclassifier__n_estimators=17;, score=0.520 total time=   0.0s\n",
      "[CV 5/5; 16/18] START baggingclassifier__n_estimators=17........................\n",
      "[CV 5/5; 16/18] END baggingclassifier__n_estimators=17;, score=0.536 total time=   0.0s\n",
      "[CV 1/5; 17/18] START baggingclassifier__n_estimators=18........................\n",
      "[CV 1/5; 17/18] END baggingclassifier__n_estimators=18;, score=0.539 total time=   0.0s\n",
      "[CV 2/5; 17/18] START baggingclassifier__n_estimators=18........................\n",
      "[CV 2/5; 17/18] END baggingclassifier__n_estimators=18;, score=0.562 total time=   0.0s\n",
      "[CV 3/5; 17/18] START baggingclassifier__n_estimators=18........................\n",
      "[CV 3/5; 17/18] END baggingclassifier__n_estimators=18;, score=0.513 total time=   0.0s\n",
      "[CV 4/5; 17/18] START baggingclassifier__n_estimators=18........................\n",
      "[CV 4/5; 17/18] END baggingclassifier__n_estimators=18;, score=0.541 total time=   0.0s\n",
      "[CV 5/5; 17/18] START baggingclassifier__n_estimators=18........................\n",
      "[CV 5/5; 17/18] END baggingclassifier__n_estimators=18;, score=0.511 total time=   0.0s\n",
      "[CV 1/5; 18/18] START baggingclassifier__n_estimators=19........................\n",
      "[CV 1/5; 18/18] END baggingclassifier__n_estimators=19;, score=0.539 total time=   0.0s\n",
      "[CV 2/5; 18/18] START baggingclassifier__n_estimators=19........................\n",
      "[CV 2/5; 18/18] END baggingclassifier__n_estimators=19;, score=0.564 total time=   0.0s\n",
      "[CV 3/5; 18/18] START baggingclassifier__n_estimators=19........................\n",
      "[CV 3/5; 18/18] END baggingclassifier__n_estimators=19;, score=0.513 total time=   0.0s\n",
      "[CV 4/5; 18/18] START baggingclassifier__n_estimators=19........................\n",
      "[CV 4/5; 18/18] END baggingclassifier__n_estimators=19;, score=0.544 total time=   0.0s\n",
      "[CV 5/5; 18/18] START baggingclassifier__n_estimators=19........................\n",
      "[CV 5/5; 18/18] END baggingclassifier__n_estimators=19;, score=0.516 total time=   0.0s\n"
     ]
    }
   ],
   "source": [
    "param_grid = {\n",
    "    \"baggingclassifier__n_estimators\": np.arange(2, 20, 1),\n",
    "}\n",
    "\n",
    "search = GridSearchCV(pipe, param_grid, scoring=\"f1_weighted\", verbose=10)\n",
    "\n",
    "search.fit(x, y)\n",
    "\n",
    "used_params = [\n",
    "    it[\"baggingclassifier__n_estimators\"] for it in search.cv_results_[\"params\"]\n",
    "]\n",
    "\n",
    "best_bagging_svm = search.best_estimator_\n",
    "bagging_svm_score = search.best_score_"
   ]
  },
  {
   "cell_type": "code",
   "execution_count": 11,
   "metadata": {},
   "outputs": [
    {
     "data": {
      "image/png": "[encoded data removed]",
      "text/plain": [
       "<Figure size 1200x600 with 1 Axes>"
      ]
     },
     "metadata": {},
     "output_type": "display_data"
    }
   ],
   "source": [
    "plot_estimators_count_to_f1(used_params, search.cv_results_[\"mean_test_score\"])"
   ]
  },
  {
   "cell_type": "markdown",
   "metadata": {},
   "source": [
    "## Навчання Bagging MLP.\n",
    "\n",
    "1. Завантажити та налаштувати модель обраної архітектури"
   ]
  },
  {
   "cell_type": "code",
   "execution_count": 12,
   "metadata": {},
   "outputs": [],
   "source": [
    "pipe = make_pipeline(\n",
    "    StandardScaler(),\n",
    "    BaggingClassifier(\n",
    "        estimator=MLPClassifier(\n",
    "            hidden_layer_sizes=[512],\n",
    "            random_state=random_seed,\n",
    "            learning_rate_init=0.001,\n",
    "            max_iter=1000,\n",
    "        ),\n",
    "        n_estimators=1, \n",
    "        random_state=random_seed\n",
    "    )\n",
    ")"
   ]
  },
  {
   "cell_type": "markdown",
   "metadata": {},
   "source": [
    "2. Провести навчання моделі"
   ]
  },
  {
   "cell_type": "code",
   "execution_count": 13,
   "metadata": {},
   "outputs": [
    {
     "name": "stdout",
     "output_type": "stream",
     "text": [
      "Fitting 5 folds for each of 7 candidates, totalling 35 fits\n",
      "[CV 1/5; 1/7] START baggingclassifier__n_estimators=5...........................\n",
      "[CV 1/5; 1/7] END baggingclassifier__n_estimators=5;, score=0.628 total time=   5.1s\n",
      "[CV 2/5; 1/7] START baggingclassifier__n_estimators=5...........................\n",
      "[CV 2/5; 1/7] END baggingclassifier__n_estimators=5;, score=0.542 total time=   3.8s\n",
      "[CV 3/5; 1/7] START baggingclassifier__n_estimators=5...........................\n",
      "[CV 3/5; 1/7] END baggingclassifier__n_estimators=5;, score=0.555 total time=   4.0s\n",
      "[CV 4/5; 1/7] START baggingclassifier__n_estimators=5...........................\n",
      "[CV 4/5; 1/7] END baggingclassifier__n_estimators=5;, score=0.535 total time=   3.8s\n",
      "[CV 5/5; 1/7] START baggingclassifier__n_estimators=5...........................\n",
      "[CV 5/5; 1/7] END baggingclassifier__n_estimators=5;, score=0.510 total time=   3.9s\n",
      "[CV 1/5; 2/7] START baggingclassifier__n_estimators=6...........................\n",
      "[CV 1/5; 2/7] END baggingclassifier__n_estimators=6;, score=0.632 total time=   4.0s\n",
      "[CV 2/5; 2/7] START baggingclassifier__n_estimators=6...........................\n",
      "[CV 2/5; 2/7] END baggingclassifier__n_estimators=6;, score=0.534 total time=   4.3s\n",
      "[CV 3/5; 2/7] START baggingclassifier__n_estimators=6...........................\n",
      "[CV 3/5; 2/7] END baggingclassifier__n_estimators=6;, score=0.590 total time=   4.7s\n",
      "[CV 4/5; 2/7] START baggingclassifier__n_estimators=6...........................\n",
      "[CV 4/5; 2/7] END baggingclassifier__n_estimators=6;, score=0.477 total time=   4.2s\n",
      "[CV 5/5; 2/7] START baggingclassifier__n_estimators=6...........................\n",
      "[CV 5/5; 2/7] END baggingclassifier__n_estimators=6;, score=0.510 total time=   4.5s\n",
      "[CV 1/5; 3/7] START baggingclassifier__n_estimators=7...........................\n",
      "[CV 1/5; 3/7] END baggingclassifier__n_estimators=7;, score=0.615 total time=   4.9s\n",
      "[CV 2/5; 3/7] START baggingclassifier__n_estimators=7...........................\n",
      "[CV 2/5; 3/7] END baggingclassifier__n_estimators=7;, score=0.561 total time=   4.9s\n",
      "[CV 3/5; 3/7] START baggingclassifier__n_estimators=7...........................\n",
      "[CV 3/5; 3/7] END baggingclassifier__n_estimators=7;, score=0.594 total time=   5.3s\n",
      "[CV 4/5; 3/7] START baggingclassifier__n_estimators=7...........................\n",
      "[CV 4/5; 3/7] END baggingclassifier__n_estimators=7;, score=0.498 total time=   5.1s\n",
      "[CV 5/5; 3/7] START baggingclassifier__n_estimators=7...........................\n",
      "[CV 5/5; 3/7] END baggingclassifier__n_estimators=7;, score=0.507 total time=   5.0s\n",
      "[CV 1/5; 4/7] START baggingclassifier__n_estimators=8...........................\n",
      "[CV 1/5; 4/7] END baggingclassifier__n_estimators=8;, score=0.639 total time=   5.7s\n",
      "[CV 2/5; 4/7] START baggingclassifier__n_estimators=8...........................\n",
      "[CV 2/5; 4/7] END baggingclassifier__n_estimators=8;, score=0.573 total time=   6.2s\n",
      "[CV 3/5; 4/7] START baggingclassifier__n_estimators=8...........................\n",
      "[CV 3/5; 4/7] END baggingclassifier__n_estimators=8;, score=0.614 total time=   6.5s\n",
      "[CV 4/5; 4/7] START baggingclassifier__n_estimators=8...........................\n",
      "[CV 4/5; 4/7] END baggingclassifier__n_estimators=8;, score=0.503 total time=   5.7s\n",
      "[CV 5/5; 4/7] START baggingclassifier__n_estimators=8...........................\n",
      "[CV 5/5; 4/7] END baggingclassifier__n_estimators=8;, score=0.515 total time=   5.7s\n",
      "[CV 1/5; 5/7] START baggingclassifier__n_estimators=9...........................\n",
      "[CV 1/5; 5/7] END baggingclassifier__n_estimators=9;, score=0.635 total time=   6.3s\n",
      "[CV 2/5; 5/7] START baggingclassifier__n_estimators=9...........................\n",
      "[CV 2/5; 5/7] END baggingclassifier__n_estimators=9;, score=0.581 total time=   7.2s\n",
      "[CV 3/5; 5/7] START baggingclassifier__n_estimators=9...........................\n",
      "[CV 3/5; 5/7] END baggingclassifier__n_estimators=9;, score=0.610 total time=   6.8s\n",
      "[CV 4/5; 5/7] START baggingclassifier__n_estimators=9...........................\n",
      "[CV 4/5; 5/7] END baggingclassifier__n_estimators=9;, score=0.531 total time=   7.6s\n",
      "[CV 5/5; 5/7] START baggingclassifier__n_estimators=9...........................\n",
      "[CV 5/5; 5/7] END baggingclassifier__n_estimators=9;, score=0.515 total time=   6.6s\n",
      "[CV 1/5; 6/7] START baggingclassifier__n_estimators=10..........................\n",
      "[CV 1/5; 6/7] END baggingclassifier__n_estimators=10;, score=0.631 total time=   9.1s\n",
      "[CV 2/5; 6/7] START baggingclassifier__n_estimators=10..........................\n",
      "[CV 2/5; 6/7] END baggingclassifier__n_estimators=10;, score=0.599 total time=  11.0s\n",
      "[CV 3/5; 6/7] START baggingclassifier__n_estimators=10..........................\n",
      "[CV 3/5; 6/7] END baggingclassifier__n_estimators=10;, score=0.610 total time=   7.8s\n",
      "[CV 4/5; 6/7] START baggingclassifier__n_estimators=10..........................\n",
      "[CV 4/5; 6/7] END baggingclassifier__n_estimators=10;, score=0.515 total time=   6.9s\n",
      "[CV 5/5; 6/7] START baggingclassifier__n_estimators=10..........................\n",
      "[CV 5/5; 6/7] END baggingclassifier__n_estimators=10;, score=0.515 total time=   7.3s\n",
      "[CV 1/5; 7/7] START baggingclassifier__n_estimators=11..........................\n",
      "[CV 1/5; 7/7] END baggingclassifier__n_estimators=11;, score=0.629 total time=   7.4s\n",
      "[CV 2/5; 7/7] START baggingclassifier__n_estimators=11..........................\n",
      "[CV 2/5; 7/7] END baggingclassifier__n_estimators=11;, score=0.579 total time=   7.8s\n",
      "[CV 3/5; 7/7] START baggingclassifier__n_estimators=11..........................\n",
      "[CV 3/5; 7/7] END baggingclassifier__n_estimators=11;, score=0.582 total time=   8.3s\n",
      "[CV 4/5; 7/7] START baggingclassifier__n_estimators=11..........................\n",
      "[CV 4/5; 7/7] END baggingclassifier__n_estimators=11;, score=0.544 total time=   8.5s\n",
      "[CV 5/5; 7/7] START baggingclassifier__n_estimators=11..........................\n",
      "[CV 5/5; 7/7] END baggingclassifier__n_estimators=11;, score=0.490 total time=   7.8s\n"
     ]
    }
   ],
   "source": [
    "param_grid = {\n",
    "    \"baggingclassifier__n_estimators\": np.arange(5, 12, 1),\n",
    "}\n",
    "\n",
    "search = GridSearchCV(pipe, param_grid, scoring=\"f1_weighted\", verbose=10)\n",
    "\n",
    "search.fit(x, y)\n",
    "\n",
    "used_params = [\n",
    "    it[\"baggingclassifier__n_estimators\"] for it in search.cv_results_[\"params\"]\n",
    "]\n",
    "\n",
    "best_bagging_mlp = search.best_estimator_\n",
    "bagging_mlp_score = search.best_score_"
   ]
  },
  {
   "cell_type": "code",
   "execution_count": 14,
   "metadata": {},
   "outputs": [
    {
     "data": {
      "image/png": "[encoded data removed]",
      "text/plain": [
       "<Figure size 1200x600 with 1 Axes>"
      ]
     },
     "metadata": {},
     "output_type": "display_data"
    }
   ],
   "source": [
    "plot_estimators_count_to_f1(used_params, search.cv_results_[\"mean_test_score\"])"
   ]
  },
  {
   "cell_type": "markdown",
   "metadata": {},
   "source": [
    "## Навчання bagging SVM + MLP.\n",
    "\n",
    "1. Завантажити та налаштувати модель обраної архітектури"
   ]
  },
  {
   "cell_type": "code",
   "execution_count": 15,
   "metadata": {},
   "outputs": [],
   "source": [
    "stack = StackingClassifier(estimators=[(\"svm\", best_bagging_svm), (\"mlp\", best_bagging_mlp)])"
   ]
  },
  {
   "cell_type": "markdown",
   "metadata": {},
   "source": [
    "2. Провести навчання моделі"
   ]
  },
  {
   "cell_type": "code",
   "execution_count": 16,
   "metadata": {},
   "outputs": [],
   "source": [
    "bagging_svm_mlp_score = cross_val_score(stack, x, y, scoring=\"f1_weighted\").mean()"
   ]
  },
  {
   "cell_type": "markdown",
   "metadata": {},
   "source": [
    "## Висновки"
   ]
  },
  {
   "cell_type": "code",
   "execution_count": 17,
   "metadata": {},
   "outputs": [
    {
     "data": {
      "text/html": [
       "<div>\n",
       "<style scoped>\n",
       "    .dataframe tbody tr th:only-of-type {\n",
       "        vertical-align: middle;\n",
       "    }\n",
       "\n",
       "    .dataframe tbody tr th {\n",
       "        vertical-align: top;\n",
       "    }\n",
       "\n",
       "    .dataframe thead th {\n",
       "        text-align: right;\n",
       "    }\n",
       "</style>\n",
       "<table border=\"1\" class=\"dataframe\">\n",
       "  <thead>\n",
       "    <tr style=\"text-align: right;\">\n",
       "      <th></th>\n",
       "      <th>Модель</th>\n",
       "      <th>F1 score</th>\n",
       "    </tr>\n",
       "  </thead>\n",
       "  <tbody>\n",
       "    <tr>\n",
       "      <th>0</th>\n",
       "      <td>SVM</td>\n",
       "      <td>0.505928</td>\n",
       "    </tr>\n",
       "    <tr>\n",
       "      <th>1</th>\n",
       "      <td>MLP</td>\n",
       "      <td>0.569876</td>\n",
       "    </tr>\n",
       "    <tr>\n",
       "      <th>2</th>\n",
       "      <td>Bagging SVM</td>\n",
       "      <td>0.535847</td>\n",
       "    </tr>\n",
       "    <tr>\n",
       "      <th>3</th>\n",
       "      <td>Bagging MLP</td>\n",
       "      <td>0.574467</td>\n",
       "    </tr>\n",
       "    <tr>\n",
       "      <th>4</th>\n",
       "      <td>Bagging SVM + MLP</td>\n",
       "      <td>0.549654</td>\n",
       "    </tr>\n",
       "  </tbody>\n",
       "</table>\n",
       "</div>"
      ],
      "text/plain": [
       "              Модель  F1 score\n",
       "0                SVM  0.505928\n",
       "1                MLP  0.569876\n",
       "2        Bagging SVM  0.535847\n",
       "3        Bagging MLP  0.574467\n",
       "4  Bagging SVM + MLP  0.549654"
      ]
     },
     "execution_count": 17,
     "metadata": {},
     "output_type": "execute_result"
    }
   ],
   "source": [
    "data = {\n",
    "    \"Модель\": [\"SVM\", \"MLP\", \"Bagging SVM\", \"Bagging MLP\", \"Bagging SVM + MLP\"],\n",
    "    \"F1 score\": [\n",
    "        svm_score,\n",
    "        mlp_score,\n",
    "        bagging_svm_score,\n",
    "        bagging_mlp_score,\n",
    "        bagging_svm_mlp_score,\n",
    "    ],\n",
    "}\n",
    "\n",
    "df = pd.DataFrame(data)\n",
    "\n",
    "df"
   ]
  }
 ],
 "metadata": {
  "kernelspec": {
   "display_name": ".venv",
   "language": "python",
   "name": "python3"
  },
  "language_info": {
   "codemirror_mode": {
    "name": "ipython",
    "version": 3
   },
   "file_extension": ".py",
   "mimetype": "text/x-python",
   "name": "python",
   "nbconvert_exporter": "python",
   "pygments_lexer": "ipython3",
   "version": "3.11.10"
  }
 },
 "nbformat": 4,
 "nbformat_minor": 2
}
